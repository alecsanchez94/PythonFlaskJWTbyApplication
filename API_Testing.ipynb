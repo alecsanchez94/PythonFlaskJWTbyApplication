{
 "cells": [
  {
   "cell_type": "code",
   "execution_count": null,
   "outputs": [],
   "source": [
    "from sqlalchemy import create_engine\n",
    "\n",
    "host = \"an.ip.address\"\n",
    "port = int(3306)\n",
    "user = \"DatabaseUsername\"\n",
    "passw = \"DatabasePassword\"\n",
    "database = \"DatabaseName\"\n",
    "\n",
    "conn_string = \"mysql+pymysql://{user}:{passw}@{host}:{port}/{database}\".format(user=user, passw=passw,\n",
    "                                                                               host=host, port=str(port),\n",
    "                                                                               database=database)\n",
    "\n",
    "mysql_conn = create_engine(conn_string, pool_pre_ping=True)\n",
    "\n",
    "bconnection = True\n",
    "try:\n",
    "    mysql_conn.connect()\n",
    "except BaseException as e:\n",
    "    print(str(e))\n",
    "    bconnection = False\n",
    "\n",
    "if bconnection:\n",
    "    print(\"Successfully Conected to db\")\n",
    "else:\n",
    "    print(\"Failed to connect to db\")\n"
   ],
   "metadata": {
    "collapsed": false,
    "pycharm": {
     "name": "#%%\n"
    }
   }
  },
  {
   "cell_type": "code",
   "execution_count": null,
   "metadata": {
    "collapsed": true
   },
   "outputs": [],
   "source": [
    "import requests\n",
    "import json\n",
    "flask_ip = '127.0.0.1'\n",
    "flask_port = 5000\n",
    "endpoint = \"{}:{}/\".format(flask_ip, flask_port)\n",
    "print(endpoint)"
   ]
  },
  {
   "cell_type": "code",
   "execution_count": null,
   "outputs": [],
   "source": [
    "#Demonstrating one way of unpacking an API, used in sniff_ip()\n",
    "\n",
    "addr = 'someip'\n",
    "url = 'https://ipinfo.io/' + addr + '/json'\n",
    "\n",
    "response = requests.get(\"{}\".format(url))\n",
    "response.text\n",
    "\n",
    "for x in response.json():\n",
    "    print(\"{}: {}\".format(x, response.json()[x]))"
   ],
   "metadata": {
    "collapsed": false,
    "pycharm": {
     "name": "#%%\n"
    }
   }
  },
  {
   "cell_type": "code",
   "execution_count": null,
   "outputs": [],
   "source": [
    "#Test creating an account\n",
    "api_route = \"auth/users/create_account/\"\n",
    "\n",
    "headers = {'Content-Type': 'application/json'}\n",
    "payload = {\n",
    "    \"email\": \"\",\n",
    "    \"password\": \"\",\n",
    "    \"first_name\": \"\",\n",
    "    \"last_name\": \"\"\n",
    "}\n",
    "\n",
    "response = requests.post(\"{}{}\".format(endpoint, api_route), json=payload, headers=headers)\n",
    "response.text"
   ],
   "metadata": {
    "collapsed": false,
    "pycharm": {
     "name": "#%%\n"
    }
   }
  },
  {
   "cell_type": "code",
   "execution_count": null,
   "outputs": [],
   "source": [
    "#Test logging in and unpacking tokens\n",
    "\n",
    "api_route = \"auth/jwt/create/\"\n",
    "\n",
    "\n",
    "headers = {'Content-Type': 'application/json'}\n",
    "payload = {\n",
    "    \"email\": \"\",\n",
    "    \"password\": \"\"\n",
    "}\n",
    "\n",
    "response = requests.post(\"{}{}\".format(endpoint, api_route), json=payload, headers=headers)\n",
    "response_data = json.loads(response.text)\n",
    "\n",
    "tkn_refresh = response_data['refresh_token']\n",
    "tkn_access = response_data['access_token']\n",
    "print(response.text)\n",
    "\n",
    "\n",
    "\n"
   ],
   "metadata": {
    "collapsed": false,
    "pycharm": {
     "name": "#%%\n"
    }
   }
  }
 ],
 "metadata": {
  "kernelspec": {
   "display_name": "Python 3",
   "language": "python",
   "name": "python3"
  },
  "language_info": {
   "codemirror_mode": {
    "name": "ipython",
    "version": 2
   },
   "file_extension": ".py",
   "mimetype": "text/x-python",
   "name": "python",
   "nbconvert_exporter": "python",
   "pygments_lexer": "ipython2",
   "version": "2.7.6"
  }
 },
 "nbformat": 4,
 "nbformat_minor": 0
}